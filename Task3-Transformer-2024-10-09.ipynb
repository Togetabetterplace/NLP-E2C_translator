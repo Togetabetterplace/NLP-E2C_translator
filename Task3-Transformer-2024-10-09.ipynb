{
 "cells": [
  {
   "cell_type": "markdown",
   "metadata": {},
   "source": [
    " 环境配置"
   ]
  },
  {
   "cell_type": "code",
   "execution_count": null,
   "metadata": {},
   "outputs": [],
   "source": [
    "# %mkdir ../model\n",
    "# %mkdir ../results\n",
    "# %pip install torchtext\n",
    "# %pip install jieba\n",
    "# %pip install sacrebleu\n"
   ]
  },
  {
   "cell_type": "code",
   "execution_count": 1,
   "metadata": {},
   "outputs": [
    {
     "name": "stderr",
     "output_type": "stream",
     "text": [
      "/root/miniconda3/lib/python3.12/site-packages/torchtext/data/__init__.py:4: UserWarning: \n",
      "/!\\ IMPORTANT WARNING ABOUT TORCHTEXT STATUS /!\\ \n",
      "Torchtext is deprecated and the last released version will be 0.18 (this one). You can silence this warning by calling the following at the beginnign of your scripts: `import torchtext; torchtext.disable_torchtext_deprecation_warning()`\n",
      "  warnings.warn(torchtext._TORCHTEXT_DEPRECATION_MSG)\n",
      "/root/miniconda3/lib/python3.12/site-packages/torchtext/vocab/__init__.py:4: UserWarning: \n",
      "/!\\ IMPORTANT WARNING ABOUT TORCHTEXT STATUS /!\\ \n",
      "Torchtext is deprecated and the last released version will be 0.18 (this one). You can silence this warning by calling the following at the beginnign of your scripts: `import torchtext; torchtext.disable_torchtext_deprecation_warning()`\n",
      "  warnings.warn(torchtext._TORCHTEXT_DEPRECATION_MSG)\n",
      "/root/miniconda3/lib/python3.12/site-packages/torchtext/utils.py:4: UserWarning: \n",
      "/!\\ IMPORTANT WARNING ABOUT TORCHTEXT STATUS /!\\ \n",
      "Torchtext is deprecated and the last released version will be 0.18 (this one). You can silence this warning by calling the following at the beginnign of your scripts: `import torchtext; torchtext.disable_torchtext_deprecation_warning()`\n",
      "  warnings.warn(torchtext._TORCHTEXT_DEPRECATION_MSG)\n"
     ]
    }
   ],
   "source": [
    "import torch\n",
    "import torch.nn as nn\n",
    "import torch.nn.functional as F\n",
    "import torch.optim as optim\n",
    "from torch.nn.utils import clip_grad_norm_\n",
    "from torchtext.data.metrics import bleu_score\n",
    "from torch.utils.data import Dataset, DataLoader\n",
    "from torchtext.data.utils import get_tokenizer\n",
    "from torchtext.vocab import build_vocab_from_iterator\n",
    "from typing import List, Tuple\n",
    "import jieba\n",
    "import random\n",
    "from torch.nn.utils.rnn import pad_sequence\n",
    "import sacrebleu\n",
    "import time\n",
    "import math\n",
    "import torchtext\n",
    "torchtext.disable_torchtext_deprecation_warning()\n"
   ]
  },
  {
   "cell_type": "code",
   "execution_count": null,
   "metadata": {},
   "outputs": [],
   "source": [
    "# !pip install -U pip setuptools wheel -i https://pypi.tuna.tsinghua.edu.cn/simple\n",
    "# !pip install -U 'spacy[cuda12x]' -i https://pypi.tuna.tsinghua.edu.cn/simple\n",
    "# # !pip install ./dataset/en_core_web_trf-3.7.3-py3-none-any.whl\n",
    "# # !python -m spacy download en_core_web_sm\n",
    "# !pip install spacy\n",
    "# !python -m spacy download en_core_web_trf\n"
   ]
  },
  {
   "cell_type": "markdown",
   "metadata": {},
   "source": [
    "\n",
    "数据预处理"
   ]
  },
  {
   "cell_type": "code",
   "execution_count": 2,
   "metadata": {},
   "outputs": [],
   "source": [
    "# 定义tokenizer\n",
    "en_tokenizer = get_tokenizer('spacy', language='en_core_web_trf')\n",
    "def zh_tokenizer(x): return list(jieba.cut(x))  # 使用jieba分词\n"
   ]
  },
  {
   "cell_type": "code",
   "execution_count": 3,
   "metadata": {},
   "outputs": [],
   "source": [
    "# 读取数据函数\n",
    "from typing import List, Tuple\n",
    "import string\n",
    "import re\n",
    "\n",
    "\n",
    "def read_data(file_path: str) -> List[str]:\n",
    "    with open(file_path, 'r', encoding='utf-8') as f:\n",
    "        return [line.strip() for line in f]\n",
    "\n",
    "\n",
    "\"\"\"\n",
    "数据清洗\n",
    "\"\"\"\n",
    "\n",
    "\n",
    "def clean_text(text_list: list) -> list:\n",
    "    cleaned_list = []\n",
    "    for text in text_list:\n",
    "        # 将文本转换为小写\n",
    "        text = text.lower()\n",
    "        # 移除括号及其内容\n",
    "        text = re.sub(r'\\(.*?\\)', '', text)\n",
    "        # 移除引号\n",
    "        text = text.replace('\"', '')\n",
    "        # 移除标点符号\n",
    "        text = text.translate(str.maketrans('', '', string.punctuation))\n",
    "        # 移除多余的空格\n",
    "        text = re.sub(r'\\s+', ' ', text).strip()\n",
    "        cleaned_list.append(text)\n",
    "    return cleaned_list\n",
    "\n",
    "\n",
    "def preprocess_data(en_data: List[str], zh_data: List[str]) -> List[Tuple[List[str], List[str]]]:\n",
    "    processed_data = []\n",
    "    for en, zh in zip(en_data, zh_data):\n",
    "        en_tokens = en_tokenizer(en.lower())[:MAX_LENGTH]\n",
    "        zh_tokens = zh_tokenizer(zh)[:MAX_LENGTH]\n",
    "        if en_tokens and zh_tokens:  # 确保两个序列都不为空\n",
    "            processed_data.append((en_tokens, zh_tokens))\n",
    "    return processed_data\n",
    "\n",
    "\n",
    "def build_vocab(data: List[Tuple[List[str], List[str]]]):\n",
    "    from torchtext.vocab import build_vocab_from_iterator\n",
    "\n",
    "    en_vocab = build_vocab_from_iterator(\n",
    "        (en for en, _ in data),\n",
    "        specials=['<unk>', '<pad>', '<bos>', '<eos>']\n",
    "    )\n",
    "    zh_vocab = build_vocab_from_iterator(\n",
    "        (zh for _, zh in data),\n",
    "        specials=['<unk>', '<pad>', '<bos>', '<eos>']\n",
    "    )\n",
    "    en_vocab.set_default_index(en_vocab['<unk>'])\n",
    "    zh_vocab.set_default_index(zh_vocab['<unk>'])\n",
    "    return en_vocab, zh_vocab\n"
   ]
  },
  {
   "cell_type": "code",
   "execution_count": 4,
   "metadata": {},
   "outputs": [],
   "source": [
    "\n",
    "class TranslationDataset(Dataset):\n",
    "    def __init__(self, data: List[Tuple[List[str], List[str]]], en_vocab, zh_vocab):\n",
    "        self.data = data\n",
    "        self.en_vocab = en_vocab\n",
    "        self.zh_vocab = zh_vocab\n",
    "\n",
    "    def __len__(self):\n",
    "        return len(self.data)\n",
    "\n",
    "    def __getitem__(self, idx):\n",
    "        if idx >= len(self.data) or idx < 0:\n",
    "            raise IndexError(f\"Index {idx} is out of bounds for dataset of size {\n",
    "                             len(self.data)}.\")\n",
    "            # return\n",
    "\n",
    "        en, zh = self.data[idx]\n",
    "        en_indices = [self.en_vocab['<bos>']] + [self.en_vocab[token]\n",
    "                                                 for token in en] + [self.en_vocab['<eos>']]\n",
    "        zh_indices = [self.zh_vocab['<bos>']] + [self.zh_vocab[token]\n",
    "                                                 for token in zh] + [self.zh_vocab['<eos>']]\n",
    "        return en_indices, zh_indices\n"
   ]
  },
  {
   "cell_type": "code",
   "execution_count": 5,
   "metadata": {},
   "outputs": [],
   "source": [
    "def collate_fn(batch):\n",
    "    en_batch, zh_batch = [], []\n",
    "    for en_item, zh_item in batch:\n",
    "        if en_item and zh_item:  # 确保两个序列都不为空\n",
    "            # print(\"都不为空\")\n",
    "            en_batch.append(torch.tensor(en_item))\n",
    "            zh_batch.append(torch.tensor(zh_item))\n",
    "        else:\n",
    "            print(\"存在为空\")\n",
    "    if not en_batch or not zh_batch:  # 如果整个批次为空，返回空张量\n",
    "        return torch.tensor([]), torch.tensor([])\n",
    "\n",
    "    # src_sequences = [item[0] for item in batch]\n",
    "    # trg_sequences = [item[1] for item in batch]\n",
    "\n",
    "    en_batch = nn.utils.rnn.pad_sequence(\n",
    "        en_batch, batch_first=True, padding_value=en_vocab['<pad>'])\n",
    "    zh_batch = nn.utils.rnn.pad_sequence(\n",
    "        zh_batch, batch_first=True, padding_value=zh_vocab['<pad>'])\n",
    "\n",
    "    # en_batch = pad_sequence(en_batch, batch_first=True, padding_value=en_vocab['<pad>'])\n",
    "    # zh_batch = pad_sequence(zh_batch, batch_first=True, padding_value=zh_vocab['<pad>'])\n",
    "\n",
    "    return en_batch, zh_batch\n"
   ]
  },
  {
   "cell_type": "code",
   "execution_count": 6,
   "metadata": {},
   "outputs": [],
   "source": [
    "# 数据加载函数\n",
    "def load_data(train_path: str, dev_en_path: str, dev_zh_path: str, test_en_path: str):\n",
    "    # 读取训练数据\n",
    "    train_data = read_data(train_path)\n",
    "    train_en, train_zh = zip(*(line.split('\\t') for line in train_data))\n",
    "    train_en, train_zh = clean_text(train_en), clean_text(train_zh)  # 预处理\n",
    "    # 读取开发集和测试集\n",
    "    dev_en = clean_text(read_data(dev_en_path))\n",
    "    dev_zh = clean_text(read_data(dev_zh_path))\n",
    "    # test_en = preprocess_test_data(read_data(test_en_path))\n",
    "    test_en = read_data(test_en_path)\n",
    "\n",
    "    # 预处理数据\n",
    "    train_processed = preprocess_data(train_en, train_zh)\n",
    "    dev_processed = preprocess_data(dev_en, dev_zh)\n",
    "    test_processed = [(en_tokenizer(en.lower())[:MAX_LENGTH], [])\n",
    "                      for en in test_en if en.strip()]\n",
    "\n",
    "    # 构建词汇表\n",
    "    global en_vocab, zh_vocab\n",
    "    en_vocab, zh_vocab = build_vocab(train_processed)\n",
    "\n",
    "    # 创建数据集\n",
    "    train_dataset = TranslationDataset(train_processed, en_vocab, zh_vocab)\n",
    "    dev_dataset = TranslationDataset(dev_processed, en_vocab, zh_vocab)\n",
    "    test_dataset = TranslationDataset(test_processed, en_vocab, zh_vocab)\n",
    "\n",
    "    from torch.utils.data import Subset\n",
    "\n",
    "    # 假设你有10000个样本，你只想用前1000个样本进行测试\n",
    "    indices = list(range(N))\n",
    "    train_dataset = Subset(train_dataset, indices)\n",
    "\n",
    "    # 创建数据加载器\n",
    "    train_loader = DataLoader(train_dataset, batch_size=BATCH_SIZE,\n",
    "                              shuffle=True, collate_fn=collate_fn, drop_last=True)\n",
    "    dev_loader = DataLoader(\n",
    "        dev_dataset, batch_size=BATCH_SIZE, collate_fn=collate_fn, drop_last=True)\n",
    "    test_loader = DataLoader(test_dataset, batch_size=1,\n",
    "                             collate_fn=collate_fn, drop_last=True)\n",
    "\n",
    "    return train_loader, dev_loader, test_loader, en_vocab, zh_vocab\n"
   ]
  },
  {
   "cell_type": "markdown",
   "metadata": {},
   "source": [
    "模型构建"
   ]
  },
  {
   "cell_type": "code",
   "execution_count": 7,
   "metadata": {},
   "outputs": [],
   "source": [
    "class PositionalEncoding(nn.Module):\n",
    "    def __init__(self, d_model, dropout=0.1, max_len=5000):\n",
    "        super(PositionalEncoding, self).__init__()\n",
    "        self.dropout = nn.Dropout(p=dropout)\n",
    "\n",
    "        pe = torch.zeros(max_len, d_model)\n",
    "        position = torch.arange(0, max_len, dtype=torch.float).unsqueeze(1)\n",
    "        div_term = torch.exp(torch.arange(\n",
    "            0, d_model, 2).float() * (-math.log(10000.0) / d_model))\n",
    "        pe[:, 0::2] = torch.sin(position * div_term)\n",
    "        pe[:, 1::2] = torch.cos(position * div_term)\n",
    "        pe = pe.unsqueeze(0).transpose(0, 1)\n",
    "        self.register_buffer('pe', pe)\n",
    "\n",
    "    def forward(self, x):\n",
    "        x = x + self.pe[:x.size(0), :]\n",
    "        return self.dropout(x)\n",
    "\n",
    "\n",
    "class TransformerModel(nn.Module):\n",
    "    def __init__(self, src_vocab, tgt_vocab, d_model, nhead, num_encoder_layers, num_decoder_layers, dim_feedforward, dropout):\n",
    "        super(TransformerModel, self).__init__()\n",
    "        self.transformer = nn.Transformer(\n",
    "            d_model, nhead, num_encoder_layers, num_decoder_layers, dim_feedforward, dropout)\n",
    "        self.src_embedding = nn.Embedding(len(src_vocab), d_model)\n",
    "        self.tgt_embedding = nn.Embedding(len(tgt_vocab), d_model)\n",
    "        self.positional_encoding = PositionalEncoding(d_model, dropout)\n",
    "        self.fc_out = nn.Linear(d_model, len(tgt_vocab))\n",
    "        self.src_vocab = src_vocab\n",
    "        self.tgt_vocab = tgt_vocab\n",
    "        self.d_model = d_model\n",
    "\n",
    "    def forward(self, src, tgt):\n",
    "        # 调整src和tgt的维度\n",
    "        src = src.transpose(0, 1)  # (seq_len, batch_size)\n",
    "        tgt = tgt.transpose(0, 1)  # (seq_len, batch_size)\n",
    "\n",
    "        src_mask = self.transformer.generate_square_subsequent_mask(\n",
    "            src.size(0)).to(src.device)\n",
    "        tgt_mask = self.transformer.generate_square_subsequent_mask(\n",
    "            tgt.size(0)).to(tgt.device)\n",
    "\n",
    "        src_padding_mask = (src == self.src_vocab['<pad>']).transpose(0, 1)\n",
    "        tgt_padding_mask = (tgt == self.tgt_vocab['<pad>']).transpose(0, 1)\n",
    "\n",
    "        src_embedded = self.positional_encoding(\n",
    "            self.src_embedding(src) * math.sqrt(self.d_model))\n",
    "        tgt_embedded = self.positional_encoding(\n",
    "            self.tgt_embedding(tgt) * math.sqrt(self.d_model))\n",
    "\n",
    "        output = self.transformer(src_embedded, tgt_embedded,\n",
    "                                  src_mask, tgt_mask, None, src_padding_mask, tgt_padding_mask, src_padding_mask)\n",
    "        return self.fc_out(output).transpose(0, 1)\n"
   ]
  },
  {
   "cell_type": "code",
   "execution_count": 8,
   "metadata": {},
   "outputs": [],
   "source": [
    "def initialize_model(src_vocab, tgt_vocab, d_model=512, nhead=8, num_encoder_layers=6, num_decoder_layers=6, dim_feedforward=2048, dropout=0.1):\n",
    "    model = TransformerModel(src_vocab, tgt_vocab, d_model, nhead,\n",
    "                             num_encoder_layers, num_decoder_layers, dim_feedforward, dropout)\n",
    "    return model\n"
   ]
  },
  {
   "cell_type": "markdown",
   "metadata": {},
   "source": [
    "## 训练"
   ]
  },
  {
   "cell_type": "code",
   "execution_count": 9,
   "metadata": {},
   "outputs": [],
   "source": [
    "# 定义优化器\n",
    "def initialize_optimizer(model, learning_rate=0.001):\n",
    "    return optim.Adam(model.parameters(), lr=learning_rate)\n"
   ]
  },
  {
   "cell_type": "code",
   "execution_count": 10,
   "metadata": {},
   "outputs": [],
   "source": [
    "# 运行时间\n",
    "def epoch_time(start_time, end_time):\n",
    "    elapsed_time = end_time - start_time\n",
    "    elapsed_mins = int(elapsed_time / 60)\n",
    "    elapsed_secs = int(elapsed_time - (elapsed_mins * 60))\n",
    "    return elapsed_mins, elapsed_secs\n"
   ]
  },
  {
   "cell_type": "code",
   "execution_count": 11,
   "metadata": {},
   "outputs": [],
   "source": [
    "def train(model, iterator, optimizer, criterion, clip):\n",
    "    model.train()\n",
    "    epoch_loss = 0\n",
    "\n",
    "    for i, batch in enumerate(iterator):\n",
    "        src, tgt = batch\n",
    "        if src.numel() == 0 or tgt.numel() == 0:\n",
    "            continue\n",
    "\n",
    "        src, tgt = src.to(DEVICE), tgt.to(DEVICE)\n",
    "\n",
    "        optimizer.zero_grad()\n",
    "        output = model(src, tgt[:, :-1])\n",
    "\n",
    "        output_dim = output.shape[-1]\n",
    "        output = output.contiguous().view(-1, output_dim)\n",
    "        tgt = tgt[:, 1:].contiguous().view(-1)\n",
    "\n",
    "        loss = criterion(output, tgt)\n",
    "        loss.backward()\n",
    "\n",
    "        clip_grad_norm_(model.parameters(), clip)\n",
    "        optimizer.step()\n",
    "\n",
    "        epoch_loss += loss.item()\n",
    "\n",
    "    return epoch_loss / len(iterator)\n",
    "\n",
    "\n",
    "def evaluate(model, iterator, criterion):\n",
    "    model.eval()\n",
    "    epoch_loss = 0\n",
    "    with torch.no_grad():\n",
    "        for i, batch in enumerate(iterator):\n",
    "            src, tgt = batch\n",
    "            if src.numel() == 0 or tgt.numel() == 0:\n",
    "                continue\n",
    "\n",
    "            src, tgt = src.to(DEVICE), tgt.to(DEVICE)\n",
    "\n",
    "            output = model(src, tgt[:, :-1])\n",
    "\n",
    "            output_dim = output.shape[-1]\n",
    "            output = output.contiguous().view(-1, output_dim)\n",
    "            tgt = tgt[:, 1:].contiguous().view(-1)\n",
    "\n",
    "            loss = criterion(output, tgt)\n",
    "            epoch_loss += loss.item()\n",
    "\n",
    "    return epoch_loss / len(iterator)\n"
   ]
  },
  {
   "cell_type": "code",
   "execution_count": 12,
   "metadata": {},
   "outputs": [],
   "source": [
    "def translate_sentence(src_indexes, src_vocab, tgt_vocab, model, device, max_length=50):\n",
    "    model.eval()\n",
    "\n",
    "    src_tensor = src_indexes.unsqueeze(0).to(device)  # 添加批次维度\n",
    "\n",
    "    with torch.no_grad():\n",
    "        encoder_outputs = model.transformer.encoder(model.positional_encoding(\n",
    "            model.src_embedding(src_tensor) * math.sqrt(model.d_model)))\n",
    "\n",
    "    trg_indexes = [tgt_vocab['<bos>']]\n",
    "    for i in range(max_length):\n",
    "        trg_tensor = torch.LongTensor(trg_indexes).unsqueeze(0).to(device)\n",
    "\n",
    "        with torch.no_grad():\n",
    "            output = model(src_tensor, trg_tensor)\n",
    "\n",
    "        pred_token = output.argmax(2)[:, -1].item()\n",
    "        trg_indexes.append(pred_token)\n",
    "\n",
    "        if pred_token == tgt_vocab['<eos>']:\n",
    "            break\n",
    "\n",
    "    trg_tokens = [tgt_vocab.get_itos()[i] for i in trg_indexes]\n",
    "    return trg_tokens[1:-1]  # 移除<bos>和<eos>标记\n"
   ]
  },
  {
   "cell_type": "code",
   "execution_count": 13,
   "metadata": {},
   "outputs": [],
   "source": [
    "def calculate_bleu(dev_loader, src_vocab, tgt_vocab, model, device):\n",
    "    model.eval()\n",
    "    translations = []\n",
    "    references = []\n",
    "\n",
    "    with torch.no_grad():\n",
    "        for src, tgt in dev_loader:\n",
    "            src = src.to(device)\n",
    "            for sentence in src:\n",
    "                translated = translate_sentence(\n",
    "                    sentence, src_vocab, tgt_vocab, model, device)\n",
    "                translations.append(' '.join(translated))\n",
    "\n",
    "            for reference in tgt:\n",
    "                ref_tokens = [tgt_vocab.get_itos()[idx] for idx in reference if idx not in [\n",
    "                    tgt_vocab['<bos>'], tgt_vocab['<eos>'], tgt_vocab['<pad>']]]\n",
    "                references.append([' '.join(ref_tokens)])\n",
    "\n",
    "    bleu = sacrebleu.corpus_bleu(translations, references)\n",
    "    return bleu.score\n"
   ]
  },
  {
   "cell_type": "code",
   "execution_count": 14,
   "metadata": {},
   "outputs": [],
   "source": [
    "\n",
    "def train_model(model, train_iterator, valid_iterator, optimizer, criterion, scheduler, N_EPOCHS=10, CLIP=1, save_path='../model/best-model_transformer.pt'):\n",
    "    best_valid_loss = float('inf')\n",
    "    lrs, epochs = [], []\n",
    "    for epoch in range(N_EPOCHS):\n",
    "        start_time = time.time()\n",
    "        lrs.append(scheduler.get_lr())  # .get_lr()获取当前学习率\n",
    "        epochs.append(epoch)\n",
    "        # print(f\"Starting Epoch {epoch + 1}\")\n",
    "        print(len(train_iterator), len(valid_iterator))\n",
    "        train_loss = train(model, train_iterator, optimizer, criterion, CLIP)\n",
    "        valid_loss = evaluate(model, valid_iterator, criterion)\n",
    "\n",
    "        end_time = time.time()\n",
    "        epoch_mins, epoch_secs = epoch_time(start_time, end_time)\n",
    "\n",
    "        if valid_loss < best_valid_loss:\n",
    "            best_valid_loss = valid_loss\n",
    "            torch.save(model.state_dict(), save_path)\n",
    "\n",
    "        print(f'Epoch: {epoch+1:02} | Time: {epoch_mins}m {epoch_secs}s')\n",
    "        print(f'\\tTrain Loss: {train_loss:.3f} | Train PPL: {math.exp(train_loss):7.3f}')\n",
    "        print(f'\\t Val. Loss: {valid_loss:.3f} |  Val. PPL: {math.exp(valid_loss):7.3f}')\n",
    "        scheduler.step()\n"
   ]
  },
  {
   "cell_type": "code",
   "execution_count": 15,
   "metadata": {},
   "outputs": [
    {
     "name": "stderr",
     "output_type": "stream",
     "text": [
      "Building prefix dict from the default dictionary ...\n",
      "Loading model from cache /tmp/jieba.cache\n",
      "Loading model cost 0.633 seconds.\n",
      "Prefix dict has been built successfully.\n"
     ]
    },
    {
     "name": "stdout",
     "output_type": "stream",
     "text": [
      "英语词汇表大小: 50475\n",
      "中文词汇表大小: 74825\n",
      "训练集大小: 148350\n",
      "开发集大小: 1000\n",
      "测试集大小: 1000\n"
     ]
    }
   ],
   "source": [
    "# 定义常量\n",
    "MAX_LENGTH = 100    # 最大句子长度\n",
    "BATCH_SIZE = 64\n",
    "DEVICE = torch.device('cuda:0' if torch.cuda.is_available() else 'cpu')\n",
    "N = 148350  # 采样训练集的数量，最多148363\n",
    "\n",
    "train_path = './dataset/old_train.txt'\n",
    "dev_en_path = './dataset/dev_en.txt'\n",
    "dev_zh_path = './dataset/dev_zh.txt'\n",
    "test_en_path = './dataset/test_en.txt'\n",
    "\n",
    "train_loader, dev_loader, test_loader, en_vocab, zh_vocab = load_data(\n",
    "    train_path, dev_en_path, dev_zh_path, test_en_path\n",
    ")\n",
    "\n",
    "\n",
    "print(f\"英语词汇表大小: {len(en_vocab)}\")\n",
    "print(f\"中文词汇表大小: {len(zh_vocab)}\")\n",
    "print(f\"训练集大小: {len(train_loader.dataset)}\")\n",
    "print(f\"开发集大小: {len(dev_loader.dataset)}\")\n",
    "print(f\"测试集大小: {len(test_loader.dataset)}\")\n"
   ]
  },
  {
   "cell_type": "code",
   "execution_count": null,
   "metadata": {},
   "outputs": [
    {
     "name": "stderr",
     "output_type": "stream",
     "text": [
      "/root/miniconda3/lib/python3.12/site-packages/torch/nn/modules/transformer.py:306: UserWarning: enable_nested_tensor is True, but self.use_nested_tensor is False because encoder_layer.self_attn.batch_first was not True(use batch_first for better inference performance)\n",
      "  warnings.warn(f\"enable_nested_tensor is True, but self.use_nested_tensor is False because {why_not_sparsity_fast_path}\")\n",
      "/root/miniconda3/lib/python3.12/site-packages/torch/optim/lr_scheduler.py:454: UserWarning: To get the last learning rate computed by the scheduler, please use `get_last_lr()`.\n",
      "  warnings.warn(\"To get the last learning rate computed by the scheduler, \"\n",
      "/root/miniconda3/lib/python3.12/site-packages/torch/nn/functional.py:5137: UserWarning: Support for mismatched src_key_padding_mask and mask is deprecated. Use same type for both instead.\n",
      "  warnings.warn(\n",
      "/root/miniconda3/lib/python3.12/site-packages/torch/nn/functional.py:5137: UserWarning: Support for mismatched key_padding_mask and attn_mask is deprecated. Use same type for both instead.\n",
      "  warnings.warn(\n"
     ]
    },
    {
     "name": "stdout",
     "output_type": "stream",
     "text": [
      "2317 15\n",
      "Epoch: 01 | Time: 3m 31s\n",
      "\tTrain Loss: 4.194 | Train PPL:  66.299\n",
      "\t Val. Loss: 4.375 |  Val. PPL:  79.419\n",
      "2317 15\n",
      "Epoch: 02 | Time: 3m 31s\n",
      "\tTrain Loss: 4.110 | Train PPL:  60.940\n",
      "\t Val. Loss: 4.324 |  Val. PPL:  75.464\n",
      "2317 15\n",
      "Epoch: 03 | Time: 3m 31s\n",
      "\tTrain Loss: 4.058 | Train PPL:  57.848\n",
      "\t Val. Loss: 4.304 |  Val. PPL:  73.999\n",
      "2317 15\n",
      "Epoch: 04 | Time: 3m 32s\n",
      "\tTrain Loss: 4.029 | Train PPL:  56.229\n",
      "\t Val. Loss: 4.286 |  Val. PPL:  72.664\n",
      "2317 15\n"
     ]
    }
   ],
   "source": [
    "# 主函数\n",
    "\n",
    "from torch.optim.lr_scheduler import MultiStepLR\n",
    "\n",
    "\n",
    "if __name__ == '__main__':\n",
    "\n",
    "    # 模型参数\n",
    "    D_MODEL = 512# 256\n",
    "    NHEAD = 8\n",
    "    NUM_ENCODER_LAYERS = 5\n",
    "    NUM_DECODER_LAYERS = 5\n",
    "    DIM_FEEDFORWARD = 1024 # 512\n",
    "    DROPOUT = 0.3\n",
    "\n",
    "    N_EPOCHS = 40\n",
    "    CLIP = 1\n",
    "\n",
    "    # 初始化模型\n",
    "    model = initialize_model(en_vocab, zh_vocab, D_MODEL, NHEAD, NUM_ENCODER_LAYERS,\n",
    "                             NUM_DECODER_LAYERS, DIM_FEEDFORWARD, DROPOUT).to(DEVICE)\n",
    "    model.load_state_dict(torch.load('./model/best-model_transformer.pt'))\n",
    "    # print(f'The model has {sum(p.numel() for p in model.parameters() if p.requires_grad):,} trainable parameters')\n",
    "\n",
    "    optimizer = optim.Adam(model.parameters(), lr=0.0001,\n",
    "                           betas=(0.9, 0.98), eps=1e-9)\n",
    "    # optimizer = optim.sgd(model.parameters(), lr=0.0001, momentum=0.9)\n",
    "    # 定义学习率衰减策略\n",
    "    # scheduler = optim.lr_scheduler.ReduceLROnPlateau(optimizer, mode='min', factor=0.5, patience=2, verbose=True)\n",
    "    criterion = nn.CrossEntropyLoss(ignore_index=zh_vocab['<pad>'])\n",
    "    scheduler = MultiStepLR(\n",
    "        optimizer=optimizer,\n",
    "        milestones=[1, 2, 3],  # 设定调整的间隔数\n",
    "        gamma=0.5,  # 系数\n",
    "        last_epoch=-1)\n",
    "\n",
    "    # 训练模型\n",
    "    save_path = './model/best-model_transformer.pt'\n",
    "    train_model(model, train_loader, dev_loader, optimizer,\n",
    "                criterion, scheduler, N_EPOCHS, CLIP, save_path=save_path)\n",
    "\n",
    "#     # 定义损失函数\n",
    "#     criterion = nn.CrossEntropyLoss(ignore_index=zh_vocab['<pad>'])\n",
    "#     # 初始化优化器\n",
    "#     optimizer = optim.Adam(model.parameters(), lr=0.0001, betas=(0.9, 0.98), eps=1e-9)\n",
    "\n",
    "#     # 训练模型\n",
    "#     save_path = './model/best-model_transformer.pt'\n",
    "#     train_model(model, train_loader, dev_loader, optimizer, criterion, N_EPOCHS, CLIP, save_path=save_path)\n",
    "\n",
    "    print(f\"训练完成！模型已保存到：{save_path}\")\n",
    "\n",
    "    # ssh -p 27833 root@connect.cqa1.seetacloud.com\n"
   ]
  },
  {
   "cell_type": "markdown",
   "metadata": {},
   "source": [
    " 在开发集上进行评价"
   ]
  },
  {
   "cell_type": "code",
   "execution_count": 53,
   "metadata": {},
   "outputs": [
    {
     "name": "stdout",
     "output_type": "stream",
     "text": [
      "BLEU score = 1240.86\n"
     ]
    }
   ],
   "source": [
    "model = initialize_model(en_vocab, zh_vocab, D_MODEL, NHEAD, NUM_ENCODER_LAYERS,\n",
    "                         NUM_DECODER_LAYERS, DIM_FEEDFORWARD, DROPOUT).to(DEVICE)\n",
    "\n",
    "# 加载最佳模型\n",
    "model.load_state_dict(torch.load('./model/best-model_transformer.pt'))\n",
    "\n",
    "# 计算BLEU分数\n",
    "bleu_score = calculate_bleu(dev_loader, en_vocab, zh_vocab, model, DEVICE)\n",
    "print(f'BLEU score = {bleu_score*100:.2f}')\n"
   ]
  },
  {
   "cell_type": "markdown",
   "metadata": {},
   "source": [
    " 对测试集进行翻译"
   ]
  },
  {
   "cell_type": "code",
   "execution_count": 24,
   "metadata": {},
   "outputs": [
    {
     "data": {
      "text/plain": [
       "<All keys matched successfully>"
      ]
     },
     "execution_count": 24,
     "metadata": {},
     "output_type": "execute_result"
    }
   ],
   "source": [
    "# 加载最佳模型\n",
    "model.load_state_dict(torch.load('./model/best-model_transformer.pt'))\n"
   ]
  },
  {
   "cell_type": "code",
   "execution_count": null,
   "metadata": {},
   "outputs": [],
   "source": [
    "def preprocess_test_data(test_data: List[str]) -> List[str]:\n",
    "    return [clean_text(sentence) for sentence in test_data]\n",
    "\n",
    "\n",
    "save_dir = './results/submit_task3.txt'\n",
    "with open(save_dir, 'w') as f:\n",
    "    translated_sentences = []\n",
    "    for batch in test_loader:  # 遍历所有数据\n",
    "        src, _ = batch\n",
    "        src = src.to(DEVICE)\n",
    "        translated = translate_sentence(\n",
    "            src[0], en_vocab, zh_vocab, model, DEVICE)  # 翻译结果\n",
    "        results = \"\".join(translated)\n",
    "        f.write(results + '\\n')  # 将结果写入文件\n",
    "    print(f\"翻译完成，结果已保存到{save_dir}\")\n"
   ]
  },
  {
   "cell_type": "markdown",
   "metadata": {},
   "source": [
    "术语词典"
   ]
  },
  {
   "cell_type": "code",
   "execution_count": 26,
   "metadata": {},
   "outputs": [],
   "source": [
    "# 存储成字典\n",
    "def load_dictionary(dict_path):\n",
    "    term_dict = {}\n",
    "    with open(dict_path, 'r', encoding='utf-8') as f:\n",
    "        data = f.read()\n",
    "    data = data.strip().split('\\n')\n",
    "    source_term = [line.split('\\t')[0] for line in data]\n",
    "    target_term = [line.split('\\t')[1] for line in data]\n",
    "    for i in range(len(source_term)):\n",
    "        term_dict[source_term[i]] = target_term[i]\n",
    "    return term_dict\n",
    "\n",
    "\n",
    "def post_process_translation(translation, term_dict):\n",
    "    \"\"\" 使用术语词典进行后处理 \"\"\"\n",
    "\n",
    "    translated_words = [term_dict.get(word, word) for word in translation]\n",
    "    return \"\".join(translated_words)\n"
   ]
  },
  {
   "cell_type": "code",
   "execution_count": 27,
   "metadata": {},
   "outputs": [],
   "source": [
    "# 加载你的术语词典\n",
    "dict_path = './dataset/en-zh.dic'  # 术语词典文件路径\n",
    "term_dict = load_dictionary(dict_path)\n"
   ]
  },
  {
   "cell_type": "code",
   "execution_count": 28,
   "metadata": {},
   "outputs": [
    {
     "name": "stdout",
     "output_type": "stream",
     "text": [
      "翻译完成，结果已保存到./results/submit_add_dict.txt\n"
     ]
    }
   ],
   "source": [
    "save_dir = './results/submit_add_dict.txt'\n",
    "with open(save_dir, 'w') as f:\n",
    "    translated_sentences = []\n",
    "    for batch in test_loader:  # 遍历所有数据\n",
    "        src, _ = batch\n",
    "        src = src.to(DEVICE)\n",
    "        translated = translate_sentence(\n",
    "            src[0], en_vocab, zh_vocab, model, DEVICE)  # 翻译结果\n",
    "        results = post_process_translation(translated, term_dict)\n",
    "        results = \"\".join(results)\n",
    "        f.write(results + '\\n')  # 将结果写入文件\n",
    "        # break\n",
    "    print(f\"翻译完成，结果已保存到{save_dir}\")\n"
   ]
  },
  {
   "cell_type": "code",
   "execution_count": null,
   "metadata": {},
   "outputs": [],
   "source": []
  }
 ],
 "metadata": {
  "kernelspec": {
   "display_name": "Python 3 (ipykernel)",
   "language": "python",
   "name": "python3"
  },
  "language_info": {
   "codemirror_mode": {
    "name": "ipython",
    "version": 3
   },
   "file_extension": ".py",
   "mimetype": "text/x-python",
   "name": "python",
   "nbconvert_exporter": "python",
   "pygments_lexer": "ipython3",
   "version": "3.12.3"
  }
 },
 "nbformat": 4,
 "nbformat_minor": 4
}
